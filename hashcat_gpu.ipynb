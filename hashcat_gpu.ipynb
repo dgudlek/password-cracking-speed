{
  "nbformat": 4,
  "nbformat_minor": 0,
  "metadata": {
    "colab": {
      "name": "hashcat_gpu.ipynb",
      "provenance": [],
      "collapsed_sections": [],
      "authorship_tag": "ABX9TyPCQwEegycJsSsZeNJDag/z",
      "include_colab_link": true
    },
    "kernelspec": {
      "name": "python3",
      "display_name": "Python 3"
    },
    "language_info": {
      "name": "python"
    },
    "accelerator": "GPU"
  },
  "cells": [
    {
      "cell_type": "markdown",
      "metadata": {
        "id": "view-in-github",
        "colab_type": "text"
      },
      "source": [
        "<a href=\"https://colab.research.google.com/github/dgudlek/password-cracking-velocity/blob/main/hashcat_gpu.ipynb\" target=\"_parent\"><img src=\"https://colab.research.google.com/assets/colab-badge.svg\" alt=\"Open In Colab\"/></a>"
      ]
    },
    {
      "cell_type": "code",
      "source": [
        "!apt-get install hashcat &> /dev/null"
      ],
      "metadata": {
        "id": "3HCWiSw7O2bM"
      },
      "execution_count": 1,
      "outputs": []
    },
    {
      "cell_type": "code",
      "source": [
        "# Change the root password to 'zzzz' and copy the hash.\n",
        "!echo root:zzzz | chpasswd\n",
        "!cat /etc/shadow | grep -E '^root:' | cut -f2 -d: > stolen_hash.txt\n",
        "!cat stolen_hash.txt"
      ],
      "metadata": {
        "id": "pU9lc2qxOusk",
        "colab": {
          "base_uri": "https://localhost:8080/"
        },
        "outputId": "2e027997-6c4d-49bc-8cad-c44c9a7ad390"
      },
      "execution_count": 2,
      "outputs": [
        {
          "output_type": "stream",
          "name": "stdout",
          "text": [
            "$6$6G6lWtWR$RtcRNWCbV68goJ8jCVZXo6aM7UqoJBGY/YaChwHqCr.mDhOfLNw7MHBp4fIcGribJVhVoGblxJ7VQ/EgVxJC9/\n"
          ]
        }
      ]
    },
    {
      "cell_type": "code",
      "source": [
        "!hashcat --opencl-info"
      ],
      "metadata": {
        "colab": {
          "base_uri": "https://localhost:8080/"
        },
        "id": "QJzOns_Lv1R3",
        "outputId": "699fcb37-d468-4fb9-fc29-32b16a5167cb"
      },
      "execution_count": 3,
      "outputs": [
        {
          "output_type": "stream",
          "name": "stdout",
          "text": [
            "hashcat (v4.0.1) starting...\n",
            "\n",
            "OpenCL Info:\n",
            "\n",
            "Platform ID #1\n",
            "  Vendor  : NVIDIA Corporation\n",
            "  Name    : NVIDIA CUDA\n",
            "  Version : OpenCL 1.2 CUDA 11.2.109\n",
            "\n",
            "  Device ID #1\n",
            "    Type           : GPU\n",
            "    Vendor ID      : 32\n",
            "    Vendor         : NVIDIA Corporation\n",
            "    Name           : Tesla T4\n",
            "    Version        : OpenCL 1.2 CUDA\n",
            "    Processor(s)   : 40\n",
            "    Clock          : 1590\n",
            "    Memory         : 3777/15109 MB allocatable\n",
            "    OpenCL Version : OpenCL C 1.2 \n",
            "    Driver Version : 460.32.03\n",
            "\n"
          ]
        }
      ]
    },
    {
      "cell_type": "code",
      "source": [
        "!hashcat --potfile-disable --markov-disable -m 1800 -a 3 stolen_hash.txt ?l?l?l?l"
      ],
      "metadata": {
        "colab": {
          "base_uri": "https://localhost:8080/"
        },
        "id": "zIPZ1f2oPokd",
        "outputId": "afdb6ba8-7764-4085-eb1b-cdcef6dcb640"
      },
      "execution_count": 4,
      "outputs": [
        {
          "output_type": "stream",
          "name": "stdout",
          "text": [
            "hashcat (v4.0.1) starting...\n",
            "\n",
            "\u001b[31mnvmlDeviceGetFanSpeed(): Not Supported\u001b[0m\n",
            "\n",
            "OpenCL Platform #1: NVIDIA Corporation\n",
            "======================================\n",
            "* Device #1: Tesla T4, 3777/15109 MB allocatable, 40MCU\n",
            "\n",
            "Hashes: 1 digests; 1 unique digests, 1 unique salts\n",
            "Bitmaps: 16 bits, 65536 entries, 0x0000ffff mask, 262144 bytes, 5/13 rotates\n",
            "\n",
            "Applicable optimizers:\n",
            "* Zero-Byte\n",
            "* Single-Hash\n",
            "* Single-Salt\n",
            "* Brute-Force\n",
            "* Uses-64-Bit\n",
            "\n",
            "Password length minimum: 0\n",
            "Password length maximum: 256\n",
            "\n",
            "\u001b[33mATTENTION! Pure (unoptimized) OpenCL kernels selected.\u001b[0m\n",
            "\u001b[33mThis enables cracking passwords and salts > length 32 but for the price of drastical reduced performance.\u001b[0m\n",
            "\u001b[33mIf you want to switch to optimized OpenCL kernels, append -O to your commandline.\u001b[0m\n",
            "\u001b[33m\u001b[0m\n",
            "Watchdog: Temperature abort trigger set to 90c\n",
            "Watchdog: Temperature retain trigger disabled.\n",
            "\n",
            "\u001b[33m* Device #1: build_opts '-I /usr/share/hashcat/OpenCL -D VENDOR_ID=32 -D CUDA_ARCH=705 -D AMD_ROCM=0 -D VECT_SIZE=1 -D DEVICE_TYPE=4 -D DGST_R0=0 -D DGST_R1=1 -D DGST_R2=2 -D DGST_R3=3 -D DGST_ELEM=16 -D KERN_TYPE=1800 -D _unroll'\u001b[0m\n",
            "\u001b[33m* Device #1: Kernel m01800.ec2a2a8d.kernel not found in cache! Building may take a while...\u001b[0m\n",
            "\n",
            "\n",
            "\u001b[33m* Device #1: Kernel markov_le.c52779fa.kernel not found in cache! Building may take a while...\u001b[0m\n",
            "\n",
            "\n",
            "\u001b[33m* Device #1: Kernel amp_a3.c52779fa.kernel not found in cache! Building may take a while...\u001b[0m\n",
            "\n",
            "\n",
            "- Device #1: autotuned kernel-accel to 32\n",
            "- Device #1: autotuned kernel-loops to 32\n",
            "\u001b[33mThe wordlist or mask that you are using is too small.\u001b[0m\n",
            "\u001b[33mThis means that hashcat cannot use the full parallel power of your device(s).\u001b[0m\n",
            "\u001b[33mUnless you supply more work, your cracking speed will drop.\u001b[0m\n",
            "\u001b[33mFor tips on supplying more work, see: https://hashcat.net/faq/morework\u001b[0m\n",
            "\u001b[33m\u001b[0m\n",
            "\u001b[33mApproaching final keyspace - workload adjusted.\u001b[0m\n",
            "\u001b[33m\u001b[0m\n",
            "\u001b[33mCracking performance lower than expected?\u001b[0m\n",
            "\u001b[33m\u001b[0m\n",
            "\u001b[33m* Append -O to the commandline.\u001b[0m\n",
            "\u001b[33m  This lowers the maximum supported password- and salt-length (typically down to 32).\u001b[0m\n",
            "\u001b[33m\u001b[0m\n",
            "\u001b[33m* Append -w 3 to the commandline.\u001b[0m\n",
            "\u001b[33m  This can cause your screen to lag.\u001b[0m\n",
            "\u001b[33m\u001b[0m\n",
            "\u001b[33m* Update your OpenCL runtime / driver the right way:\u001b[0m\n",
            "\u001b[33m  https://hashcat.net/faq/wrongdriver\u001b[0m\n",
            "\u001b[33m\u001b[0m\n",
            "\u001b[33m* Create more work items to make use of your parallelization power:\u001b[0m\n",
            "\u001b[33m  https://hashcat.net/faq/morework\u001b[0m\n",
            "\u001b[33m\u001b[0m\n",
            "$6$6G6lWtWR$RtcRNWCbV68goJ8jCVZXo6aM7UqoJBGY/YaChwHqCr.mDhOfLNw7MHBp4fIcGribJVhVoGblxJ7VQ/EgVxJC9/:zzzz\n",
            "                                                          \n",
            "Session..........: hashcat\n",
            "Status...........: Cracked\n",
            "Hash.Type........: sha512crypt $6$, SHA512 (Unix)\n",
            "Hash.Target......: $6$6G6lWtWR$RtcRNWCbV68goJ8jCVZXo6aM7UqoJBGY/YaChwH...VxJC9/\n",
            "Time.Started.....: Sat Jan 22 21:51:04 2022 (27 secs)\n",
            "Time.Estimated...: Sat Jan 22 21:51:31 2022 (0 secs)\n",
            "Guess.Mask.......: ?l?l?l?l [4]\n",
            "Guess.Queue......: 1/1 (100.00%)\n",
            "Speed.Dev.#1.....:    16394 H/s (6.58ms)\n",
            "Recovered........: 1/1 (100.00%) Digests, 1/1 (100.00%) Salts\n",
            "Progress.........: 456976/456976 (100.00%)\n",
            "Rejected.........: 0/456976 (0.00%)\n",
            "Restore.Point....: 0/17576 (0.00%)\n",
            "Candidates.#1....: zaaa -> zzzz\n",
            "HWMon.Dev.#1.....: Temp: 66c Util: 98% Core:1395MHz Mem:5000MHz Bus:16\n",
            "\n",
            "Started: Sat Jan 22 21:50:50 2022\n",
            "Stopped: Sat Jan 22 21:51:33 2022\n"
          ]
        }
      ]
    }
  ]
}