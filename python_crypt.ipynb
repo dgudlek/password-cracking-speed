{
  "nbformat": 4,
  "nbformat_minor": 0,
  "metadata": {
    "colab": {
      "name": "python_crypt.ipynb",
      "provenance": [],
      "collapsed_sections": [],
      "authorship_tag": "ABX9TyNqFdo8SX+uJLclRZFK8wYL",
      "include_colab_link": true
    },
    "kernelspec": {
      "name": "python3",
      "display_name": "Python 3"
    },
    "language_info": {
      "name": "python"
    }
  },
  "cells": [
    {
      "cell_type": "markdown",
      "metadata": {
        "id": "view-in-github",
        "colab_type": "text"
      },
      "source": [
        "<a href=\"https://colab.research.google.com/github/dgudlek/password-cracking-velocity/blob/main/python_crypt.ipynb\" target=\"_parent\"><img src=\"https://colab.research.google.com/assets/colab-badge.svg\" alt=\"Open In Colab\"/></a>"
      ]
    },
    {
      "cell_type": "code",
      "source": [
        "import crypt\n",
        "import itertools\n",
        "import time"
      ],
      "metadata": {
        "id": "pIJz0w7ynzEE"
      },
      "execution_count": 1,
      "outputs": []
    },
    {
      "cell_type": "code",
      "source": [
        "# Change the root password to 'zzzz' and copy the hash.\n",
        "!echo root:zzzz | chpasswd\n",
        "!cat /etc/shadow | grep -E '^root:' | cut -f2 -d: > stolen_hash.txt\n",
        "!cat stolen_hash.txt"
      ],
      "metadata": {
        "colab": {
          "base_uri": "https://localhost:8080/"
        },
        "id": "qr0uaAUmtIei",
        "outputId": "69677dae-1230-4ce9-fd6e-1badabc2344a"
      },
      "execution_count": 2,
      "outputs": [
        {
          "output_type": "stream",
          "name": "stdout",
          "text": [
            "$6$GyobhVi.$YWZeMoYFlf1OYBy0n0VWjCWt7oiwVr20nSjCmlfq5.xq7iIBhNZBWnP7.JECqsLWDGSucKPucKuJWHvuRHaZ11\n"
          ]
        }
      ]
    },
    {
      "cell_type": "code",
      "source": [
        "!cat /proc/cpuinfo"
      ],
      "metadata": {
        "colab": {
          "base_uri": "https://localhost:8080/"
        },
        "id": "hx3j5k23vnEU",
        "outputId": "3232fd0a-b24b-40ac-bb46-121cac24e1ff"
      },
      "execution_count": 3,
      "outputs": [
        {
          "output_type": "stream",
          "name": "stdout",
          "text": [
            "processor\t: 0\n",
            "vendor_id\t: GenuineIntel\n",
            "cpu family\t: 6\n",
            "model\t\t: 79\n",
            "model name\t: Intel(R) Xeon(R) CPU @ 2.20GHz\n",
            "stepping\t: 0\n",
            "microcode\t: 0x1\n",
            "cpu MHz\t\t: 2199.998\n",
            "cache size\t: 56320 KB\n",
            "physical id\t: 0\n",
            "siblings\t: 2\n",
            "core id\t\t: 0\n",
            "cpu cores\t: 1\n",
            "apicid\t\t: 0\n",
            "initial apicid\t: 0\n",
            "fpu\t\t: yes\n",
            "fpu_exception\t: yes\n",
            "cpuid level\t: 13\n",
            "wp\t\t: yes\n",
            "flags\t\t: fpu vme de pse tsc msr pae mce cx8 apic sep mtrr pge mca cmov pat pse36 clflush mmx fxsr sse sse2 ss ht syscall nx pdpe1gb rdtscp lm constant_tsc rep_good nopl xtopology nonstop_tsc cpuid tsc_known_freq pni pclmulqdq ssse3 fma cx16 pcid sse4_1 sse4_2 x2apic movbe popcnt aes xsave avx f16c rdrand hypervisor lahf_lm abm 3dnowprefetch invpcid_single ssbd ibrs ibpb stibp fsgsbase tsc_adjust bmi1 hle avx2 smep bmi2 erms invpcid rtm rdseed adx smap xsaveopt arat md_clear arch_capabilities\n",
            "bugs\t\t: cpu_meltdown spectre_v1 spectre_v2 spec_store_bypass l1tf mds swapgs taa\n",
            "bogomips\t: 4399.99\n",
            "clflush size\t: 64\n",
            "cache_alignment\t: 64\n",
            "address sizes\t: 46 bits physical, 48 bits virtual\n",
            "power management:\n",
            "\n",
            "processor\t: 1\n",
            "vendor_id\t: GenuineIntel\n",
            "cpu family\t: 6\n",
            "model\t\t: 79\n",
            "model name\t: Intel(R) Xeon(R) CPU @ 2.20GHz\n",
            "stepping\t: 0\n",
            "microcode\t: 0x1\n",
            "cpu MHz\t\t: 2199.998\n",
            "cache size\t: 56320 KB\n",
            "physical id\t: 0\n",
            "siblings\t: 2\n",
            "core id\t\t: 0\n",
            "cpu cores\t: 1\n",
            "apicid\t\t: 1\n",
            "initial apicid\t: 1\n",
            "fpu\t\t: yes\n",
            "fpu_exception\t: yes\n",
            "cpuid level\t: 13\n",
            "wp\t\t: yes\n",
            "flags\t\t: fpu vme de pse tsc msr pae mce cx8 apic sep mtrr pge mca cmov pat pse36 clflush mmx fxsr sse sse2 ss ht syscall nx pdpe1gb rdtscp lm constant_tsc rep_good nopl xtopology nonstop_tsc cpuid tsc_known_freq pni pclmulqdq ssse3 fma cx16 pcid sse4_1 sse4_2 x2apic movbe popcnt aes xsave avx f16c rdrand hypervisor lahf_lm abm 3dnowprefetch invpcid_single ssbd ibrs ibpb stibp fsgsbase tsc_adjust bmi1 hle avx2 smep bmi2 erms invpcid rtm rdseed adx smap xsaveopt arat md_clear arch_capabilities\n",
            "bugs\t\t: cpu_meltdown spectre_v1 spectre_v2 spec_store_bypass l1tf mds swapgs taa\n",
            "bogomips\t: 4399.99\n",
            "clflush size\t: 64\n",
            "cache_alignment\t: 64\n",
            "address sizes\t: 46 bits physical, 48 bits virtual\n",
            "power management:\n",
            "\n"
          ]
        }
      ]
    },
    {
      "cell_type": "code",
      "execution_count": 4,
      "metadata": {
        "colab": {
          "base_uri": "https://localhost:8080/"
        },
        "id": "ggeFs8zUnXdb",
        "outputId": "288ac733-7625-4837-b5f2-892cdb7e7338"
      },
      "outputs": [
        {
          "output_type": "stream",
          "name": "stdout",
          "text": [
            "Hashes calculated: 45697. Hashes per second: 352.51594348617243\n",
            "Hashes calculated: 91394. Hashes per second: 353.77051238762175\n",
            "Hashes calculated: 137091. Hashes per second: 354.3876752253944\n",
            "Hashes calculated: 182788. Hashes per second: 354.71707611678977\n",
            "Hashes calculated: 228485. Hashes per second: 354.903222447938\n",
            "Hashes calculated: 274182. Hashes per second: 355.0966334177509\n",
            "Hashes calculated: 319879. Hashes per second: 355.2140571027223\n",
            "Hashes calculated: 365576. Hashes per second: 355.23992451939466\n",
            "Hashes calculated: 411273. Hashes per second: 355.30262150520633\n",
            "Hashes calculated: 456970. Hashes per second: 355.36235408749957\n",
            "Found it. The password is 'zzzz'.\n",
            "Hashes calculated: 456976. Hashes per second: 355.36109207988204\n"
          ]
        }
      ],
      "source": [
        "alphabet = \"abcdefghijklmnopqrstuvwxyz\"\n",
        "num_letters = 4\n",
        "\n",
        "# Read the hash and salt.\n",
        "with open(\"stolen_hash.txt\", \"r\") as f:\n",
        "    stolen_hash = f.read().strip()\n",
        "stolen_salt = \"$\".join(stolen_hash.split(\"$\")[:3])\n",
        "\n",
        "num_hashes = 0\n",
        "t0 = time.time()\n",
        "report_step = ((len(alphabet)**num_letters) // 10)\n",
        "for password_tuple in itertools.product(alphabet, repeat=num_letters):\n",
        "    password = \"\".join(password_tuple)\n",
        "    num_hashes += 1\n",
        "    if num_hashes % report_step == 0:\n",
        "        print(f\"Hashes calculated: {num_hashes}. Hashes per second: {num_hashes/(time.time() - t0)}\")        \n",
        "    if crypt.crypt(password, stolen_salt) == stolen_hash:\n",
        "        print(f\"Found it. The password is '{password}'.\")\n",
        "        break\n",
        "\n",
        "print(f\"Hashes calculated: {num_hashes}. Hashes per second: {num_hashes/(time.time() - t0)}\")"
      ]
    }
  ]
}