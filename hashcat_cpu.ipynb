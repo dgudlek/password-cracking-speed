{
  "nbformat": 4,
  "nbformat_minor": 0,
  "metadata": {
    "colab": {
      "name": "hashcat_cpu.ipynb",
      "provenance": [],
      "authorship_tag": "ABX9TyO9AAs8PJlDRMjmtf/kzeSh",
      "include_colab_link": true
    },
    "kernelspec": {
      "name": "python3",
      "display_name": "Python 3"
    },
    "language_info": {
      "name": "python"
    }
  },
  "cells": [
    {
      "cell_type": "markdown",
      "metadata": {
        "id": "view-in-github",
        "colab_type": "text"
      },
      "source": [
        "<a href=\"https://colab.research.google.com/github/dgudlek/password-cracking-velocity/blob/main/hashcat_cpu.ipynb\" target=\"_parent\"><img src=\"https://colab.research.google.com/assets/colab-badge.svg\" alt=\"Open In Colab\"/></a>"
      ]
    },
    {
      "cell_type": "code",
      "execution_count": 1,
      "metadata": {
        "id": "VVlOOUgUp1sV"
      },
      "outputs": [],
      "source": [
        "!apt-get install hashcat &> /dev/null"
      ]
    },
    {
      "cell_type": "code",
      "source": [
        "# Change the root password to 'zzzz' and copy the hash.\n",
        "!echo root:zzzz | chpasswd\n",
        "!cat /etc/shadow | grep -E '^root:' | cut -f2 -d: > stolen_hash.txt\n",
        "!cat stolen_hash.txt"
      ],
      "metadata": {
        "id": "QoCzwmekp5lG",
        "colab": {
          "base_uri": "https://localhost:8080/"
        },
        "outputId": "e424138e-c98e-4031-a9c5-149737b0ef29"
      },
      "execution_count": 2,
      "outputs": [
        {
          "output_type": "stream",
          "name": "stdout",
          "text": [
            "$6$UG2kTqI9$nh5GUoVdKmbNvpSUerNMtchtVt2DNWLcUx0RZ0P94tQWoWfWxMLCMDOhsV6KI/PO9qjUKnNGhqkMLzzZpzYXF/\n"
          ]
        }
      ]
    },
    {
      "cell_type": "code",
      "source": [
        "%%bash\n",
        "# Installs opencl runtime for CPU\n",
        "# https://software.intel.com/en-us/articles/opencl-drivers#latest_CPU_runtime\n",
        "PACKAGE_URL=http://registrationcenter-download.intel.com/akdlm/irc_nas/12556/opencl_runtime_16.1.2_x64_rh_6.4.0.37.tgz\n",
        "PACKAGE_NAME=opencl_runtime_16.1.2_x64_rh_6.4.0.37\n",
        "wget -q ${PACKAGE_URL} -O /tmp/opencl_runtime.tgz\n",
        "tar -xzf /tmp/opencl_runtime.tgz -C /tmp\n",
        "sed 's/decline/accept/g' -i /tmp/${PACKAGE_NAME}/silent.cfg\n",
        "apt-get install -yq cpio\n",
        "/tmp/${PACKAGE_NAME}/install.sh -s /tmp/${PACKAGE_NAME}/silent.cfg"
      ],
      "metadata": {
        "colab": {
          "base_uri": "https://localhost:8080/"
        },
        "id": "d_pDT2NKktb8",
        "outputId": "f363ee21-5687-48cc-d100-dffd11d32845"
      },
      "execution_count": 3,
      "outputs": [
        {
          "output_type": "stream",
          "name": "stdout",
          "text": [
            "Reading package lists...\n",
            "Building dependency tree...\n",
            "Reading state information...\n",
            "Suggested packages:\n",
            "  libarchive1\n",
            "The following NEW packages will be installed:\n",
            "  cpio\n",
            "0 upgraded, 1 newly installed, 0 to remove and 37 not upgraded.\n",
            "Need to get 86.4 kB of archives.\n",
            "After this operation, 356 kB of additional disk space will be used.\n",
            "Get:1 http://archive.ubuntu.com/ubuntu bionic-updates/main amd64 cpio amd64 2.12+dfsg-6ubuntu0.18.04.4 [86.4 kB]\n",
            "Fetched 86.4 kB in 0s (211 kB/s)\n",
            "Selecting previously unselected package cpio.\r\n",
            "(Reading database ... \r(Reading database ... 5%\r(Reading database ... 10%\r(Reading database ... 15%\r(Reading database ... 20%\r(Reading database ... 25%\r(Reading database ... 30%\r(Reading database ... 35%\r(Reading database ... 40%\r(Reading database ... 45%\r(Reading database ... 50%\r(Reading database ... 55%\r(Reading database ... 60%\r(Reading database ... 65%\r(Reading database ... 70%\r(Reading database ... 75%\r(Reading database ... 80%\r(Reading database ... 85%\r(Reading database ... 90%\r(Reading database ... 95%\r(Reading database ... 100%\r(Reading database ... 156141 files and directories currently installed.)\r\n",
            "Preparing to unpack .../cpio_2.12+dfsg-6ubuntu0.18.04.4_amd64.deb ...\r\n",
            "Unpacking cpio (2.12+dfsg-6ubuntu0.18.04.4) ...\r\n",
            "Setting up cpio (2.12+dfsg-6ubuntu0.18.04.4) ...\r\n",
            "update-alternatives: using /bin/mt-gnu to provide /bin/mt (mt) in auto mode\r\n",
            "Processing triggers for man-db (2.8.3-2ubuntu0.1) ...\r\n",
            "Missing optional prerequisites\n",
            "-- Unsupported OS\n",
            "--------------------------------------------------------------------------------\n",
            "--------------------------------------------------------------------------------\n"
          ]
        }
      ]
    },
    {
      "cell_type": "code",
      "source": [
        "!hashcat --opencl-info"
      ],
      "metadata": {
        "colab": {
          "base_uri": "https://localhost:8080/"
        },
        "id": "oGs6WavQvuKP",
        "outputId": "884e3bdf-0a38-4c10-d674-918e9c3c8b65"
      },
      "execution_count": 4,
      "outputs": [
        {
          "output_type": "stream",
          "name": "stdout",
          "text": [
            "hashcat (v4.0.1) starting...\n",
            "\n",
            "OpenCL Info:\n",
            "\n",
            "Platform ID #1\n",
            "  Vendor  : Intel(R) Corporation\n",
            "  Name    : Intel(R) OpenCL\n",
            "  Version : OpenCL 2.0 LINUX\n",
            "\n",
            "  Device ID #1\n",
            "    Type           : CPU\n",
            "    Vendor ID      : 8\n",
            "    Vendor         : Intel(R) Corporation\n",
            "    Name           : Intel(R) Xeon(R) CPU @ 2.20GHz\n",
            "    Version        : OpenCL 2.0 (Build 37)\n",
            "    Processor(s)   : 2\n",
            "    Clock          : 2200\n",
            "    Memory         : 3247/12991 MB allocatable\n",
            "    OpenCL Version : OpenCL C 2.0 \n",
            "    Driver Version : 1.2.0.37\n",
            "\n"
          ]
        }
      ]
    },
    {
      "cell_type": "code",
      "source": [
        "!hashcat --potfile-disable --markov-disable -m 1800 -a 3 stolen_hash.txt ?l?l?l?l"
      ],
      "metadata": {
        "colab": {
          "base_uri": "https://localhost:8080/"
        },
        "id": "BG4c0LPdk-b0",
        "outputId": "64aa1ea2-4b5d-4c9f-fccc-a950f25d90d0"
      },
      "execution_count": 5,
      "outputs": [
        {
          "output_type": "stream",
          "name": "stdout",
          "text": [
            "hashcat (v4.0.1) starting...\n",
            "\n",
            "OpenCL Platform #1: Intel(R) Corporation\n",
            "========================================\n",
            "* Device #1: Intel(R) Xeon(R) CPU @ 2.20GHz, 3247/12991 MB allocatable, 2MCU\n",
            "\n",
            "Hashes: 1 digests; 1 unique digests, 1 unique salts\n",
            "Bitmaps: 16 bits, 65536 entries, 0x0000ffff mask, 262144 bytes, 5/13 rotates\n",
            "\n",
            "Applicable optimizers:\n",
            "* Zero-Byte\n",
            "* Single-Hash\n",
            "* Single-Salt\n",
            "* Brute-Force\n",
            "* Uses-64-Bit\n",
            "\n",
            "Password length minimum: 0\n",
            "Password length maximum: 256\n",
            "\n",
            "\u001b[33mATTENTION! Pure (unoptimized) OpenCL kernels selected.\u001b[0m\n",
            "\u001b[33mThis enables cracking passwords and salts > length 32 but for the price of drastical reduced performance.\u001b[0m\n",
            "\u001b[33mIf you want to switch to optimized OpenCL kernels, append -O to your commandline.\u001b[0m\n",
            "\u001b[33m\u001b[0m\n",
            "Watchdog: Hardware monitoring interface not found on your system.\n",
            "Watchdog: Temperature abort trigger disabled.\n",
            "Watchdog: Temperature retain trigger disabled.\n",
            "\n",
            "\u001b[33m* Device #1: build_opts '-I /usr/share/hashcat/OpenCL -D VENDOR_ID=8 -D CUDA_ARCH=0 -D AMD_ROCM=0 -D VECT_SIZE=4 -D DEVICE_TYPE=2 -D DGST_R0=0 -D DGST_R1=1 -D DGST_R2=2 -D DGST_R3=3 -D DGST_ELEM=16 -D KERN_TYPE=1800 -D _unroll -cl-opt-disable'\u001b[0m\n",
            "\u001b[33m* Device #1: Kernel m01800.e9db7d8d.kernel not found in cache! Building may take a while...\u001b[0m\n",
            "Compilation started\n",
            "Compilation done\n",
            "Linking started\n",
            "Linking done\n",
            "Device build started\n",
            "Device build done\n",
            "Kernel <gpu_memset> was not vectorized\n",
            "Kernel <m01800_init> was not vectorized\n",
            "Kernel <m01800_loop> was not vectorized\n",
            "Kernel <m01800_comp> was not vectorized\n",
            "Done.\n",
            "\u001b[33m* Device #1: Kernel markov_le.76dc2645.kernel not found in cache! Building may take a while...\u001b[0m\n",
            "Compilation started\n",
            "Compilation done\n",
            "Linking started\n",
            "Linking done\n",
            "Device build started\n",
            "Device build done\n",
            "Kernel <l_markov> was not vectorized\n",
            "Kernel <r_markov> was not vectorized\n",
            "Kernel <C_markov> was not vectorized\n",
            "Done.\n",
            "\u001b[33m* Device #1: Kernel amp_a3.76dc2645.kernel not found in cache! Building may take a while...\u001b[0m\n",
            "Compilation started\n",
            "Compilation done\n",
            "Linking started\n",
            "Linking done\n",
            "Device build started\n",
            "Device build done\n",
            "Kernel <amp> was not vectorized\n",
            "Done.\n",
            "- Device #1: autotuned kernel-accel to 80\n",
            "- Device #1: autotuned kernel-loops to 102\n",
            "\u001b[33mApproaching final keyspace - workload adjusted.\u001b[0m\n",
            "\u001b[33m\u001b[0m\n",
            "$6$UG2kTqI9$nh5GUoVdKmbNvpSUerNMtchtVt2DNWLcUx0RZ0P94tQWoWfWxMLCMDOhsV6KI/PO9qjUKnNGhqkMLzzZpzYXF/:zzzz\n",
            "                                                          \n",
            "Session..........: hashcat\n",
            "Status...........: Cracked\n",
            "Hash.Type........: sha512crypt $6$, SHA512 (Unix)\n",
            "Hash.Target......: $6$UG2kTqI9$nh5GUoVdKmbNvpSUerNMtchtVt2DNWLcUx0RZ0P...pzYXF/\n",
            "Time.Started.....: Sat Jan 22 21:51:16 2022 (23 mins, 33 secs)\n",
            "Time.Estimated...: Sat Jan 22 22:14:49 2022 (0 secs)\n",
            "Guess.Mask.......: ?l?l?l?l [4]\n",
            "Guess.Queue......: 1/1 (100.00%)\n",
            "Speed.Dev.#1.....:      324 H/s (8.36ms)\n",
            "Recovered........: 1/1 (100.00%) Digests, 1/1 (100.00%) Salts\n",
            "Progress.........: 456976/456976 (100.00%)\n",
            "Rejected.........: 0/456976 (0.00%)\n",
            "Restore.Point....: 17440/17576 (99.23%)\n",
            "Candidates.#1....: zuuz -> zzzz\n",
            "HWMon.Dev.#1.....: N/A\n",
            "\n",
            "Started: Sat Jan 22 21:51:10 2022\n",
            "Stopped: Sat Jan 22 22:14:50 2022\n"
          ]
        }
      ]
    }
  ]
}